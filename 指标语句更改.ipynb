{
 "cells": [
  {
   "cell_type": "code",
   "execution_count": 2,
   "metadata": {},
   "outputs": [],
   "source": [
    "import os \n",
    "import re\n",
    "import pandas as pd"
   ]
  },
  {
   "cell_type": "code",
   "execution_count": 3,
   "metadata": {},
   "outputs": [],
   "source": [
    "fp = open('D:\\\\思特奇\\\\工作文件\\\\2021\\\\1.8 最小指标库\\\\修改版\\\\数据业务收入，订单数，客户数.txt','w') #打开你要写得文件test2.txt\n",
    "lines = open('D:\\\\思特奇\\\\工作文件\\\\2021\\\\1.8 最小指标库\\\\插入语句第六版（收入，订单数，客户数）.txt',encoding='UTF-8').readlines() #打开文件，读入每一行\n",
    "for s in lines:\n",
    "        fp.write(s.replace('CURDATE() - INTERVAL 1 day','\\'\\\",v_dealyyyymmdd2,\\\"\\'').replace('CURDATE() - INTERVAL 1 DAY','\\'\\\",v_dealyyyymmdd2,\\\"\\'').replace('CURDATE()','\\'\\\",v_thisyyyymmdd2,\\\"\\'').replace('curdate()','\\'\\\",v_thisyyyymmdd2,\\\"\\''))  # replace是替换，write是写入\n",
    "fp.close() # 关闭文件"
   ]
  },
  {
   "cell_type": "code",
   "execution_count": 4,
   "metadata": {},
   "outputs": [],
   "source": [
    "fp = open('D:\\\\思特奇\\\\工作文件\\\\2021\\\\1.8 最小指标库\\\\修改版\\\\kpi口径收入.txt','w') #打开你要写得文件test2.txt\n",
    "lines = open('D:\\\\思特奇\\\\工作文件\\\\2021\\\\1.8 最小指标库\\\\kpi口径收入 第三版（没有个人市场）.txt',encoding='UTF-8').readlines() #打开文件，读入每一行\n",
    "for s in lines:\n",
    "        fp.write(s.replace('CURDATE() - INTERVAL 1 day','\\'\\\",v_dealyyyymmdd2,\\\"\\'').replace('CURDATE() - INTERVAL 1 DAY','\\'\\\",v_dealyyyymmdd2,\\\"\\'').replace('CURDATE()','\\'\\\",v_thisyyyymmdd2,\\\"\\'').replace('\\\"%Y%m%d\\\"','\\'%Y%m%d\\'').replace('curdate()','\\'\\\",v_thisyyyymmdd2,\\\"\\''))  # replace是替换，write是写入\n",
    "fp.close() # 关闭文件"
   ]
  },
  {
   "cell_type": "code",
   "execution_count": 5,
   "metadata": {},
   "outputs": [],
   "source": [
    "fp = open('D:\\\\思特奇\\\\工作文件\\\\2021\\\\1.8 最小指标库\\\\修改版\\\\数据业务时间进度完成率.txt','w') #打开你要写得文件test2.txt\n",
    "lines = open('D:\\\\思特奇\\\\工作文件\\\\2021\\\\1.8 最小指标库\\\\插入语句第六版（时间进度完成率）.txt',encoding='UTF-8').readlines() #打开文件，读入每一行\n",
    "for s in lines:\n",
    "        fp.write(s.replace('CURDATE() - INTERVAL 1 day','\\'\\\",v_dealyyyymmdd2,\\\"\\'').replace('CURDATE() - INTERVAL 1 DAY','\\'\\\",v_dealyyyymmdd2,\\\"\\'').replace('CURDATE()','\\'\\\",v_thisyyyymmdd2,\\\"\\'').replace('curdate()','\\'\\\",v_thisyyyymmdd2,\\\"\\''))  # replace是替换，write是写入\n",
    "fp.close() # 关闭文件"
   ]
  },
  {
   "cell_type": "code",
   "execution_count": 6,
   "metadata": {},
   "outputs": [],
   "source": [
    "fp = open('D:\\\\思特奇\\\\工作文件\\\\2021\\\\1.8 最小指标库\\\\修改版\\\\业务口径收入.txt','w') #打开你要写得文件test2.txt\n",
    "lines = open('D:\\\\思特奇\\\\工作文件\\\\2021\\\\1.8 最小指标库\\\\业务口径收入 第一版.txt',encoding='UTF-8').readlines() #打开文件，读入每一行\n",
    "for s in lines:\n",
    "        fp.write(s.replace('CURDATE() - INTERVAL 1 day','\\'\\\",v_dealyyyymmdd2,\\\"\\'').replace('CURDATE() - INTERVAL 1 DAY','\\'\\\",v_dealyyyymmdd2,\\\"\\'').replace('CURDATE()','\\'\\\",v_thisyyyymmdd2,\\\"\\'').replace('\\\"%Y%m%d\\\"','\\'%Y%m%d\\'').replace('curdate()','\\'\\\",v_thisyyyymmdd2,\\\"\\''))  # replace是替换，write是写入\n",
    "fp.close() # 关闭文件"
   ]
  },
  {
   "cell_type": "code",
   "execution_count": 7,
   "metadata": {},
   "outputs": [],
   "source": [
    "fp = open('D:\\\\思特奇\\\\工作文件\\\\2021\\\\1.8 最小指标库\\\\修改版\\\\手工数据.txt','w') #打开你要写得文件test2.txt\n",
    "lines = open('D:\\\\思特奇\\\\工作文件\\\\2021\\\\1.8 最小指标库\\\\手工数据 第三版.txt',encoding='UTF-8').readlines() #打开文件，读入每一行\n",
    "for s in lines:\n",
    "        fp.write(s.replace('CURDATE() - INTERVAL 1 day','\\'\\\",v_dealyyyymmdd2,\\\"\\'').replace('CURDATE() - INTERVAL 1 DAY','\\'\\\",v_dealyyyymmdd2,\\\"\\'').replace('CURDATE()','\\'\\\",v_thisyyyymmdd2,\\\"\\'').replace('\\\"%Y%m%d\\\"','\\'%Y%m%d\\'').replace('curdate()','\\'\\\",v_thisyyyymmdd2,\\\"\\''))  # replace是替换，write是写入\n",
    "fp.close() # 关闭文件"
   ]
  },
  {
   "cell_type": "code",
   "execution_count": 8,
   "metadata": {},
   "outputs": [],
   "source": [
    "fp = open('D:\\\\思特奇\\\\工作文件\\\\2021\\\\1.8 最小指标库\\\\修改版\\\\财务口径收入.txt','w') #打开你要写得文件test2.txt\n",
    "lines = open('D:\\\\思特奇\\\\工作文件\\\\2021\\\\1.8 最小指标库\\\\财务口径收入 第一版.txt',encoding='UTF-8').readlines() #打开文件，读入每一行\n",
    "for s in lines:\n",
    "        fp.write(s.replace('CURDATE() - INTERVAL 1 day','\\'\\\",v_dealyyyymmdd2,\\\"\\'').replace('CURDATE() - INTERVAL 1 DAY','\\'\\\",v_dealyyyymmdd2,\\\"\\'').replace('CURDATE()','\\'\\\",v_thisyyyymmdd2,\\\"\\'').replace('\\\"%Y%m%d\\\"','\\'%Y%m%d\\'').replace('curdate()','\\'\\\",v_thisyyyymmdd2,\\\"\\''))  # replace是替换，write是写入\n",
    "fp.close() # 关闭文件"
   ]
  },
  {
   "cell_type": "code",
   "execution_count": 9,
   "metadata": {},
   "outputs": [],
   "source": [
    "fp = open('D:\\\\思特奇\\\\工作文件\\\\2021\\\\1.8 最小指标库\\\\修改版\\\\应收应付指标.txt','w') #打开你要写得文件test2.txt\n",
    "lines = open('D:\\\\思特奇\\\\工作文件\\\\2021\\\\1.8 最小指标库\\\\应收应付指标.txt',encoding='UTF-8').readlines() #打开文件，读入每一行\n",
    "for s in lines:\n",
    "        fp.write(s.replace('CURDATE() - INTERVAL 1 day','\\'\\\",v_dealyyyymmdd2,\\\"\\'').replace('CURDATE() - INTERVAL 1 DAY','\\'\\\",v_dealyyyymmdd2,\\\"\\'').replace('CURDATE()','\\'\\\",v_thisyyyymmdd2,\\\"\\'').replace('\\\"%Y%m%d\\\"','\\'%Y%m%d\\'').replace('curdate()','\\'\\\",v_thisyyyymmdd2,\\\"\\''))  # replace是替换，write是写入\n",
    "fp.close() # 关闭文件"
   ]
  },
  {
   "cell_type": "code",
   "execution_count": 10,
   "metadata": {},
   "outputs": [],
   "source": [
    "fp = open('D:\\\\思特奇\\\\工作文件\\\\2021\\\\1.8 最小指标库\\\\修改版\\\\计费指标.txt','w') #打开你要写得文件test2.txt\n",
    "lines = open('D:\\\\思特奇\\\\工作文件\\\\2021\\\\1.8 最小指标库\\\\计费相关指标 第一版.txt',encoding='UTF-8').readlines() #打开文件，读入每一行\n",
    "for s in lines:\n",
    "        fp.write(s.replace('CURDATE() - INTERVAL 1 day','\\'\\\",v_dealyyyymmdd2,\\\"\\'').replace('CURDATE() - INTERVAL 1 DAY','\\'\\\",v_dealyyyymmdd2,\\\"\\'').replace('CURDATE()','\\'\\\",v_thisyyyymmdd2,\\\"\\'').replace('\\\"%Y%m%d\\\"','\\'%Y%m%d\\'').replace('curdate()','\\'\\\",v_thisyyyymmdd2,\\\"\\''))  # replace是替换，write是写入\n",
    "fp.close() # 关闭文件"
   ]
  },
  {
   "cell_type": "code",
   "execution_count": 12,
   "metadata": {},
   "outputs": [],
   "source": [
    "fp = open('D:\\\\思特奇\\\\工作文件\\\\2021\\\\1.8 最小指标库\\\\修改版\\\\mvno指标.txt','w') #打开你要写得文件test2.txt\n",
    "lines = open('D:\\\\思特奇\\\\工作文件\\\\2021\\\\1.8 最小指标库\\\\MVNO指标.txt',encoding='UTF-8').readlines() #打开文件，读入每一行\n",
    "for s in lines:\n",
    "        fp.write(s.replace('CURDATE() - INTERVAL 1 day','\\'\\\",v_dealyyyymmdd2,\\\"\\'').replace('CURDATE() - INTERVAL 1 DAY','\\'\\\",v_dealyyyymmdd2,\\\"\\'').replace('CURDATE()','\\'\\\",v_thisyyyymmdd2,\\\"\\'').replace('\\\"%Y%m%d\\\"','\\'%Y%m%d\\'').replace('curdate()','\\'\\\",v_thisyyyymmdd2,\\\"\\''))  # replace是替换，write是写入\n",
    "fp.close() # 关闭文件"
   ]
  },
  {
   "cell_type": "code",
   "execution_count": 5,
   "metadata": {},
   "outputs": [],
   "source": [
    "fp = open('D:\\\\思特奇\\\\工作文件\\\\2021\\\\1.8 最小指标库\\\\修改版\\\\得分指标.txt','w') #打开你要写得文件test2.txt\n",
    "lines = open('D:\\\\思特奇\\\\工作文件\\\\2021\\\\1.8 最小指标库\\\\不同销售单元KPI得分指标.txt',encoding='UTF-8').readlines() #打开文件，读入每一行\n",
    "\n",
    "line1 = 'score as current_val'\n",
    "line1_change = 'sum(case when deal_date = (select max(deal_date) from dm_busi_kpi_report_m) then score else 0 end )as current_val'\n",
    "\n",
    "line2 = 'null as pervious_val,'\n",
    "line2_change = \"sum(case when date_format(deal_date,'%Y-%m-%d') = (select date_format(max(deal_date),'%Y-%m-%d') - INTERVAL 1 day from dm_busi_kpi_report_m) then score else 0 end ) as pervious_val,\\n\"\n",
    "\n",
    "line3 = 'and deal_date = (select max(deal_date) from dm_busi_kpi_report_m)'\n",
    "line3_change = ''\n",
    "\n",
    "for s in lines:\n",
    "        fp.write(s.replace(line1,line1_change).replace(line2,line2_change).replace(line3,line3_change))  # replace是替换，write是写入\n",
    "fp.close() # 关闭文件"
   ]
  },
  {
   "cell_type": "code",
   "execution_count": 3,
   "metadata": {},
   "outputs": [],
   "source": [
    "fp = open('D:\\\\思特奇\\\\工作文件\\\\2021\\\\1.8 最小指标库\\\\修改版\\\\财务口径收入修改.txt','w') #打开你要写得文件test2.txt\n",
    "lines = open('D:\\\\思特奇\\\\工作文件\\\\2021\\\\1.8 最小指标库\\\\财务口径收入修改.txt',encoding='UTF-8').readlines() #打开文件，读入每一行\n",
    "for s in lines:\n",
    "        fp.write(s.replace('\"2020-10-31\" - INTERVAL 1 day','CURDATE() - INTERVAL 1 day').replace('\"2020-10-31\" - INTERVAL 1 DAY','\\'\\\",v_dealyyyymmdd2,\\\"\\'').replace('\"2020-10-31\"','\\'\\\",v_thisyyyymmdd2,\\\"\\'').replace('\\\"%Y%m%d\\\"','\\'%Y%m%d\\'').replace('\"2020-10-31\"','\\'\\\",v_thisyyyymmdd2,\\\"\\''))  # replace是替换，write是写入\n",
    "fp.close() # 关闭文件"
   ]
  },
  {
   "cell_type": "code",
   "execution_count": 1,
   "metadata": {},
   "outputs": [],
   "source": [
    "fp = open('D:\\\\思特奇\\\\工作文件\\\\2021\\\\1.8 最小指标库\\\\修改版\\\\计费收入指标.txt','w') #打开你要写得文件test2.txt\n",
    "lines = open('D:\\\\思特奇\\\\工作文件\\\\2021\\\\1.8 最小指标库\\\\临时.txt',encoding='UTF-8').readlines() #打开文件，读入每一行\n",
    "for s in lines:\n",
    "        fp.write(s.replace('CURDATE() - INTERVAL 1 day','\\'\\\",v_dealyyyymmdd2,\\\"\\'').replace('CURDATE() - INTERVAL 1 DAY','\\'\\\",v_dealyyyymmdd2,\\\"\\'').replace('CURDATE()','\\'\\\",v_thisyyyymmdd2,\\\"\\'').replace('\\\"%Y%m%d\\\"','\\'%Y%m%d\\'').replace('curdate()','\\'\\\",v_thisyyyymmdd2,\\\"\\''))  # replace是替换，write是写入\n",
    "fp.close() # 关闭文件"
   ]
  },
  {
   "cell_type": "code",
   "execution_count": 1,
   "metadata": {},
   "outputs": [],
   "source": [
    "fp = open('D:\\\\思特奇\\\\工作文件\\\\2021\\\\1.8 最小指标库\\\\修改版\\\\全球卡指标 第一版.txt','w') #打开你要写得文件test2.txt\n",
    "lines = open('D:\\\\思特奇\\\\工作文件\\\\2021\\\\1.8 最小指标库\\\\全球卡指标 第一版.txt',encoding='UTF-8').readlines() #打开文件，读入每一行\n",
    "for s in lines:\n",
    "        fp.write(s.replace('CURDATE() - INTERVAL 1 day','\\'\\\",v_dealyyyymmdd2,\\\"\\'').replace('CURDATE() - INTERVAL 1 DAY','\\'\\\",v_dealyyyymmdd2,\\\"\\'').replace('CURDATE()','\\'\\\",v_thisyyyymmdd2,\\\"\\'').replace('\\\"%Y%m%d\\\"','\\'%Y%m%d\\'').replace('curdate()','\\'\\\",v_thisyyyymmdd2,\\\"\\''))  # replace是替换，write是写入\n",
    "fp.close() # 关闭文件"
   ]
  },
  {
   "cell_type": "code",
   "execution_count": 1,
   "metadata": {},
   "outputs": [],
   "source": [
    "fp = open('D:\\\\思特奇\\\\工作文件\\\\2021\\\\1.8 最小指标库\\\\修改版\\\\其他指标.txt','w') #打开你要写得文件test2.txt\n",
    "lines = open('D:\\\\思特奇\\\\工作文件\\\\2021\\\\1.8 最小指标库\\\\其他指标.txt',encoding='UTF-8').readlines() #打开文件，读入每一行\n",
    "for s in lines:\n",
    "        fp.write(s.replace('CURDATE() - INTERVAL 1 day','\\'\\\",v_dealyyyymmdd2,\\\"\\'').replace('CURDATE() - INTERVAL 1 DAY','\\'\\\",v_dealyyyymmdd2,\\\"\\'').replace('CURDATE()','\\'\\\",v_thisyyyymmdd2,\\\"\\'').replace('\\\"%Y%m%d\\\"','\\'%Y%m%d\\'').replace('curdate()','\\'\\\",v_thisyyyymmdd2,\\\"\\''))  # replace是替换，write是写入\n",
    "fp.close() # 关闭文件"
   ]
  },
  {
   "cell_type": "markdown",
   "metadata": {},
   "source": [
    "# 核数语句"
   ]
  },
  {
   "cell_type": "code",
   "execution_count": 4,
   "metadata": {},
   "outputs": [],
   "source": [
    "fp = open('D:\\\\思特奇\\\\工作文件\\\\2021\\\\1.8 最小指标库\\\\修改版\\\\核数\\\\kpi口径.txt','w') #打开你要写得文件test2.txt\n",
    "lines = open('D:\\\\思特奇\\\\工作文件\\\\最小指标库\\\\建表语句 第二版\\\\kpi口径收入 第三版（没有个人市场）.txt',encoding='UTF-8').readlines() #打开文件，读入每一行\n",
    "for s in lines:\n",
    "        fp.write(s.replace('CURDATE() - INTERVAL 1 day','\\\"2020-10-30\\\"').replace('CURDATE() - INTERVAL 1 DAY','\\\"2020-10-30\\\"').replace('CURDATE()','\\\"2020-10-31\\\"').replace('\\\"%Y%m%d\\\"','\\'%Y%m%d\\'').replace('curdate()','\\\"2020-10-31\\\"').replace('insert into dws_index_value_base_info',''))  # replace是替换，write是写入\n",
    "fp.close() # 关闭文件"
   ]
  },
  {
   "cell_type": "code",
   "execution_count": 1,
   "metadata": {},
   "outputs": [],
   "source": [
    "fp = open('D:\\\\思特奇\\\\工作文件\\\\2021\\\\1.8 最小指标库\\\\修改版\\\\核数\\\\MVNO指标.txt','w') #打开你要写得文件test2.txt\n",
    "lines = open('D:\\\\思特奇\\\\工作文件\\\\最小指标库\\\\建表语句 第二版\\\\MVNO指标.txt',encoding='UTF-8').readlines() #打开文件，读入每一行\n",
    "for s in lines:\n",
    "        fp.write(s.replace('CURDATE() - INTERVAL 1 day','\\\"2020-01-26\\\"').replace('CURDATE() - INTERVAL 1 DAY','\\\"2021-01-26\\\"').replace('CURDATE()','\\\"2021-01-27\\\"').replace('\\\"%Y%m%d\\\"','\\'%Y%m%d\\'').replace('curdate()','\\\"2021-01-27\\\"').replace('insert into dws_index_value_base_info',''))  # replace是替换，write是写入\n",
    "fp.close() # 关闭文件"
   ]
  },
  {
   "cell_type": "code",
   "execution_count": 2,
   "metadata": {},
   "outputs": [],
   "source": [
    "fp = open('D:\\\\思特奇\\\\工作文件\\\\2021\\\\1.8 最小指标库\\\\修改版\\\\核数\\\\财务口径.txt','w') #打开你要写得文件test2.txt\n",
    "lines = open('D:\\\\思特奇\\\\工作文件\\\\最小指标库\\\\建表语句 第二版\\\\财务口径收入 第一版.txt',encoding='UTF-8').readlines() #打开文件，读入每一行\n",
    "for s in lines:\n",
    "        fp.write(s.replace('CURDATE() - INTERVAL 1 day','\\\"2020-10-30\\\"').replace('CURDATE() - INTERVAL 1 DAY','\\\"2020-10-30\\\"').replace('CURDATE()','\\\"2020-10-31\\\"').replace('\\\"%Y%m%d\\\"','\\'%Y%m%d\\'').replace('curdate()','\\\"2020-10-31\\\"').replace('insert into dws_index_value_base_info',''))  # replace是替换，write是写入\n",
    "fp.close() # 关闭文件"
   ]
  },
  {
   "cell_type": "markdown",
   "metadata": {},
   "source": [
    "# 修改计费收入语句（只获取当期存在值）"
   ]
  },
  {
   "cell_type": "code",
   "execution_count": 17,
   "metadata": {},
   "outputs": [],
   "source": [
    "fp = open('D:\\\\思特奇\\\\工作文件\\\\2021\\\\2.5 最小指标库\\\\修改版\\\\KPI口径语句修改.txt','w') #打开你要写得文件test2.txt\n",
    "lines = open('D:\\\\思特奇\\\\工作文件\\\\2021\\\\2.5 最小指标库\\\\KPI口径语句修改.txt',encoding='UTF-8').readlines() #打开文件，读入每一行\n",
    "\n",
    "line = 'update_month = (select max(update_month) from my_huawei.dm_ca_revenue_report_mkpi)'\n",
    "line_re = 'update_month = (select max(update_month) from my_huawei.dm_ca_revenue_report_mkpi))a\\nwhere EXISTS (select stat_kpi_amount from my_huawei.dm_ca_revenue_report_mkpi where stat_month = DATE_FORMAT(\\'\\\",v_thisyyyymmdd2,\\\"\\',\\'%Y%m\\')) '\n",
    "\n",
    "line2 = '(select DATE_FORMAT(max(deal_date),\\'%Y-%m-%d\\') from dm_busi_kpi_report_m)'\n",
    "line2_re = '\\'\\\",v_thisyyyymmdd2,\\\"\\''\n",
    "\n",
    "line3 = '(select max(deal_date) from dm_busi_kpi_report_m)'\n",
    "line3_re = 'date_format(\\'\\\",v_thisyyyymmdd2,\\\"\\',\\'%Y%m%d\\')'\n",
    "\n",
    "line4 = '(select date_format(max(deal_date),\\'%Y-%m-%d\\') - INTERVAL 1 month from dm_busi_kpi_report_m)'\n",
    "line4_re = '\\'\\\",v_thisyyyymmdd2,\\\"\\' - interval 1 month'\n",
    "\n",
    "\n",
    "line6 = 'insert into dws_index_value_base_info'\n",
    "line6_re = 'insert into dws_index_value_base_info select * from ('\n",
    "for s in lines:\n",
    "    if 'from dm_busi_kpi_report_m where sales_unit' in s :\n",
    "        s = s.replace('\");',')a\\nwhere EXISTS(select score from dm_busi_kpi_report_m where deal_date = DATE_FORMAT(\\'\\\",v_thisyyyymmdd2,\\\"\\',\\'%Y%m%d\\'))\\\");')\n",
    "    fp.write(s.replace(line,line_re).replace(line2,line2_re).replace(line3,line3_re).replace(line4,line4_re).replace(line6,line6_re))  # replace是替换，write是写入\n",
    "fp.close() # 关闭文件"
   ]
  },
  {
   "cell_type": "code",
   "execution_count": 3,
   "metadata": {},
   "outputs": [],
   "source": [
    "data = pd.read_excel('D:\\思特奇\\工作文件\\最小指标库\\指标模型\\指标信息完整版19.0.xlsx')"
   ]
  },
  {
   "cell_type": "code",
   "execution_count": 11,
   "metadata": {},
   "outputs": [
    {
     "name": "stdout",
     "output_type": "stream",
     "text": [
      "EO月报     40\n",
      "公司经分会     2\n",
      "Name: 指标主要用途, dtype: int64\n"
     ]
    }
   ],
   "source": [
    "print(data['指标主要用途'].value_counts())"
   ]
  },
  {
   "cell_type": "code",
   "execution_count": null,
   "metadata": {},
   "outputs": [],
   "source": []
  }
 ],
 "metadata": {
  "kernelspec": {
   "display_name": "Python 3",
   "language": "python",
   "name": "python3"
  },
  "language_info": {
   "codemirror_mode": {
    "name": "ipython",
    "version": 3
   },
   "file_extension": ".py",
   "mimetype": "text/x-python",
   "name": "python",
   "nbconvert_exporter": "python",
   "pygments_lexer": "ipython3",
   "version": "3.6.5"
  }
 },
 "nbformat": 4,
 "nbformat_minor": 2
}
