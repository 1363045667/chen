{
 "cells": [
  {
   "cell_type": "code",
   "execution_count": 1,
   "metadata": {},
   "outputs": [],
   "source": [
    "import pandas as pd\n",
    "import numpy as np"
   ]
  },
  {
   "cell_type": "code",
   "execution_count": 2,
   "metadata": {},
   "outputs": [],
   "source": [
    "index = pd.read_excel('D:\\\\思特奇\\\\工作文件\\\\最小指标库\\\\建表语句 第二版\\\\已开发数据列表.xlsx')\n",
    "index2 = pd.read_excel('D:\\\\思特奇\\\\工作文件\\\\最小指标库\\\\指标模型\\\\指标信息完整版v17.0（108个最小指标+147个重点衍生指标_补充信息.xlsx',usecols=[4,5])\n",
    "index3 = pd.read_excel('D:\\\\思特奇\\\\工作文件\\\\最小指标库\\\\指标模型\\\\指标信息完整版v17.0（108个最小指标+147个重点衍生指标_补充信息.xlsx',sheet_name = 'Data重点指标',usecols=[4,5])"
   ]
  },
  {
   "cell_type": "code",
   "execution_count": 3,
   "metadata": {},
   "outputs": [],
   "source": [
    "index = index.drop_duplicates()"
   ]
  },
  {
   "cell_type": "code",
   "execution_count": 13,
   "metadata": {},
   "outputs": [
    {
     "data": {
      "text/plain": [
       "92"
      ]
     },
     "execution_count": 13,
     "metadata": {},
     "output_type": "execute_result"
    }
   ],
   "source": [
    "len(index)"
   ]
  },
  {
   "cell_type": "code",
   "execution_count": 4,
   "metadata": {},
   "outputs": [],
   "source": [
    "tmp1 = np.setdiff1d(index2['指标编码'],index['指标id'])"
   ]
  },
  {
   "cell_type": "code",
   "execution_count": 5,
   "metadata": {},
   "outputs": [],
   "source": [
    "tmp2 = np.setdiff1d(index3['指标编码'],index['指标id'])"
   ]
  },
  {
   "cell_type": "code",
   "execution_count": 6,
   "metadata": {},
   "outputs": [],
   "source": [
    "data = pd.DataFrame(columns=['最小指标','重点指标'])"
   ]
  },
  {
   "cell_type": "code",
   "execution_count": 7,
   "metadata": {},
   "outputs": [],
   "source": [
    "data['重点指标'] =tmp2"
   ]
  },
  {
   "cell_type": "code",
   "execution_count": 8,
   "metadata": {
    "scrolled": true
   },
   "outputs": [],
   "source": [
    "for i in range(len(tmp1)):\n",
    "    data.iloc[i,0] = tmp1[i]"
   ]
  },
  {
   "cell_type": "code",
   "execution_count": 9,
   "metadata": {},
   "outputs": [],
   "source": [
    "data = data.merge(index2,left_on='最小指标',right_on = '指标编码',how = 'left').merge(index3,left_on='重点指标',right_on = '指标编码',how = 'left')"
   ]
  },
  {
   "cell_type": "code",
   "execution_count": 10,
   "metadata": {},
   "outputs": [],
   "source": [
    "data = data.iloc[:,2:]"
   ]
  },
  {
   "cell_type": "code",
   "execution_count": 11,
   "metadata": {},
   "outputs": [],
   "source": [
    "data.columns = ['最小指标编码','最小指标名称','重点指标编码','重点指标名称']"
   ]
  },
  {
   "cell_type": "code",
   "execution_count": 12,
   "metadata": {},
   "outputs": [],
   "source": [
    "data.to_excel('D:\\\\思特奇\\\\工作文件\\\\最小指标库\\\\建表语句 第二版\\\\未开发指标列表.xlsx',index = False)"
   ]
  }
 ],
 "metadata": {
  "kernelspec": {
   "display_name": "Python 3",
   "language": "python",
   "name": "python3"
  },
  "language_info": {
   "codemirror_mode": {
    "name": "ipython",
    "version": 3
   },
   "file_extension": ".py",
   "mimetype": "text/x-python",
   "name": "python",
   "nbconvert_exporter": "python",
   "pygments_lexer": "ipython3",
   "version": "3.6.5"
  }
 },
 "nbformat": 4,
 "nbformat_minor": 2
}
