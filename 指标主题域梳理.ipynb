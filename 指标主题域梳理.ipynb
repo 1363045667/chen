{
 "cells": [
  {
   "cell_type": "code",
   "execution_count": 1,
   "metadata": {},
   "outputs": [],
   "source": [
    "import pandas as pd\n",
    "import numpy as np\n",
    "import datetime"
   ]
  },
  {
   "cell_type": "code",
   "execution_count": 2,
   "metadata": {},
   "outputs": [],
   "source": [
    "domain1 = pd.read_excel('D:\\\\思特奇\\\\工作文件\\\\最小指标库\\\\指标模型\\\\指标信息完整版18.0.xlsx',sheet_name = 'Data指标',usecols=[4,5,60,61,62]).dropna()"
   ]
  },
  {
   "cell_type": "code",
   "execution_count": 3,
   "metadata": {},
   "outputs": [],
   "source": [
    "domain = domain1\n",
    "domain = domain.reset_index(drop = True)"
   ]
  },
  {
   "cell_type": "code",
   "execution_count": 4,
   "metadata": {},
   "outputs": [],
   "source": [
    "domain_id = pd.read_excel('D:\\\\思特奇\\\\工作文件\\\\最小指标库\\\\指标模型\\\\关系表\\\\指标树模型2.xlsx')"
   ]
  },
  {
   "cell_type": "code",
   "execution_count": 5,
   "metadata": {},
   "outputs": [],
   "source": [
    "domain_id = domain_id[domain_id['当前节点层级'] == 1][['指标树编码','指标树名称']]"
   ]
  },
  {
   "cell_type": "code",
   "execution_count": 6,
   "metadata": {},
   "outputs": [],
   "source": [
    "domain_id.columns = ['主题域编码','主题域']"
   ]
  },
  {
   "cell_type": "code",
   "execution_count": 7,
   "metadata": {
    "scrolled": true
   },
   "outputs": [],
   "source": [
    "domain = domain.replace('企业运营','企业运营管理').merge(domain_id,on='主题域',how='left')"
   ]
  },
  {
   "cell_type": "code",
   "execution_count": 8,
   "metadata": {},
   "outputs": [],
   "source": [
    "now = datetime.datetime.now()\n",
    "domain['操作人'] = 'admin'\n",
    "domain['操作时间'] = now.strftime('%Y/%m/%d')\n",
    "domain['创建人'] = 'admin'\n",
    "domain['创建时间'] = '2020/1/1'\n",
    "domain['版本'] = 1"
   ]
  },
  {
   "cell_type": "code",
   "execution_count": 9,
   "metadata": {
    "scrolled": true
   },
   "outputs": [],
   "source": [
    "columns = ['指标编码','指标中文名称','主题域','主题域编码','主题子域','主题','操作人','操作时间','创建人','创建时间','版本']\n",
    "domain = domain[columns]\n",
    "domain.to_excel('D:\\\\思特奇\\\\工作文件\\\\最小指标库\\\\指标模型\\\\关系表\\\\主题域指标关系表.xlsx',index=False)"
   ]
  },
  {
   "cell_type": "code",
   "execution_count": 10,
   "metadata": {},
   "outputs": [],
   "source": [
    "domain.columns = ['INDEX_ID','INDEX_CN_NAME','DOMAIN','DOMAIN_ID','SUB_DOMAIN','TOPIC','operate_id','operate_time','create_id','create_time','version']\n",
    "domain.to_excel('D:\\\\思特奇\\\\工作文件\\\\最小指标库\\\\指标模型\\\\关系表\\\\导入版\\\\主题域指标关系表 导入版.xlsx',sheet_name = 'dim_index_domain_info',index=False)"
   ]
  },
  {
   "cell_type": "code",
   "execution_count": 6,
   "metadata": {},
   "outputs": [
    {
     "data": {
      "text/plain": [
       "'21'"
      ]
     },
     "execution_count": 6,
     "metadata": {},
     "output_type": "execute_result"
    }
   ],
   "source": []
  },
  {
   "cell_type": "code",
   "execution_count": null,
   "metadata": {},
   "outputs": [],
   "source": []
  }
 ],
 "metadata": {
  "kernelspec": {
   "display_name": "Python 3",
   "language": "python",
   "name": "python3"
  },
  "language_info": {
   "codemirror_mode": {
    "name": "ipython",
    "version": 3
   },
   "file_extension": ".py",
   "mimetype": "text/x-python",
   "name": "python",
   "nbconvert_exporter": "python",
   "pygments_lexer": "ipython3",
   "version": "3.6.5"
  }
 },
 "nbformat": 4,
 "nbformat_minor": 2
}
