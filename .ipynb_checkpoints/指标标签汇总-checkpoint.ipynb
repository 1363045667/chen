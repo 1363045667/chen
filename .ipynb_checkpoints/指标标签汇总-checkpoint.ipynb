{
 "cells": [
  {
   "cell_type": "code",
   "execution_count": 2,
   "metadata": {},
   "outputs": [],
   "source": [
    "import pandas as pd\n",
    "import numpy as np"
   ]
  },
  {
   "cell_type": "code",
   "execution_count": 3,
   "metadata": {},
   "outputs": [],
   "source": [
    "label = pd.read_excel('D:\\\\思特奇\\\\工作文件\\\\最小指标库\\\\指标模型\\\\关系表\\\\指标标签内容.xlsx')"
   ]
  },
  {
   "cell_type": "code",
   "execution_count": 4,
   "metadata": {},
   "outputs": [],
   "source": [
    "index = pd.read_excel('D:\\\\思特奇\\\\工作文件\\\\最小指标库\\\\附件1：最小指标库清单V0.1版初稿_update_20201223_1.xlsx')"
   ]
  },
  {
   "cell_type": "code",
   "execution_count": 5,
   "metadata": {},
   "outputs": [],
   "source": [
    "label = label.replace('-',np.nan).replace('低重要','不重要').replace('中重要','一般重要').replace('高重要','非常重要')"
   ]
  },
  {
   "cell_type": "code",
   "execution_count": 20,
   "metadata": {},
   "outputs": [],
   "source": [
    "index.columns = ['指标id','指标名称']"
   ]
  },
  {
   "cell_type": "code",
   "execution_count": 21,
   "metadata": {},
   "outputs": [],
   "source": [
    "label_id = pd.read_excel('D:\\\\思特奇\\\\工作文件\\\\最小指标库\\\\指标模型\\\\关系表\\\\编码规则对应表单.xlsx',sheet_name='标签',usecols=[0,5])"
   ]
  },
  {
   "cell_type": "code",
   "execution_count": 22,
   "metadata": {},
   "outputs": [],
   "source": [
    "label_id.columns =  ['标签id','标签名']"
   ]
  },
  {
   "cell_type": "code",
   "execution_count": 23,
   "metadata": {},
   "outputs": [],
   "source": [
    "tmp = pd.DataFrame(columns=['指标名称','指标id','标签名'])"
   ]
  },
  {
   "cell_type": "code",
   "execution_count": 24,
   "metadata": {},
   "outputs": [
    {
     "name": "stderr",
     "output_type": "stream",
     "text": [
      "D:\\anaconda\\lib\\site-packages\\pandas\\core\\frame.py:6201: FutureWarning: Sorting because non-concatenation axis is not aligned. A future version\n",
      "of pandas will change to not sort by default.\n",
      "\n",
      "To accept the future behavior, pass 'sort=True'.\n",
      "\n",
      "To retain the current behavior and silence the warning, pass sort=False\n",
      "\n",
      "  sort=sort)\n"
     ]
    }
   ],
   "source": [
    "for i in label.columns[:-1]:\n",
    "    if i == '标签重要性':\n",
    "        label[i] = label[i].replace('低','不重要').replace('中','一般重要').replace('高','非常重要')\n",
    "    if i == '标签敏感性':\n",
    "        label[i] = label[i].replace('低','低敏感').replace('中','中敏感').replace('高','高敏感')\n",
    "    label_data = index.merge(label[['指标名称',i]],on= '指标名称',how = 'left')\n",
    "    label_data.columns = ['指标id','指标名称','标签名']\n",
    "    tmp = tmp.append(label_data)"
   ]
  },
  {
   "cell_type": "code",
   "execution_count": 25,
   "metadata": {},
   "outputs": [],
   "source": [
    "tmp = tmp.dropna().reset_index(drop=True).merge(label_id,on='标签名',how = 'left')"
   ]
  },
  {
   "cell_type": "code",
   "execution_count": 27,
   "metadata": {
    "scrolled": true
   },
   "outputs": [],
   "source": [
    "tmp['创建时间'] = '2020/1/1'\n",
    "tmp['创建人'] = 'admin'\n",
    "tmp['更新时间'] = '2020/12/25'\n",
    "tmp['更新人'] = '更新人'"
   ]
  },
  {
   "cell_type": "code",
   "execution_count": 29,
   "metadata": {},
   "outputs": [],
   "source": [
    "tmp.to_excel('D:\\\\思特奇\\\\工作文件\\\\最小指标库\\\\指标模型\\\\关系表\\\\指标标签关系表.xlsx',index=False)"
   ]
  }
 ],
 "metadata": {
  "kernelspec": {
   "display_name": "Python 3",
   "language": "python",
   "name": "python3"
  },
  "language_info": {
   "codemirror_mode": {
    "name": "ipython",
    "version": 3
   },
   "file_extension": ".py",
   "mimetype": "text/x-python",
   "name": "python",
   "nbconvert_exporter": "python",
   "pygments_lexer": "ipython3",
   "version": "3.6.5"
  }
 },
 "nbformat": 4,
 "nbformat_minor": 2
}
