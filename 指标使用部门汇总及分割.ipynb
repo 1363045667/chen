{
 "cells": [
  {
   "cell_type": "code",
   "execution_count": 15,
   "metadata": {},
   "outputs": [],
   "source": [
    "import pandas as pd\n",
    "import numpy as np\n",
    "import datetime"
   ]
  },
  {
   "cell_type": "code",
   "execution_count": 16,
   "metadata": {},
   "outputs": [],
   "source": [
    "data1 = pd.read_excel('D:\\\\思特奇\\\\工作文件\\\\最小指标库\\\\指标模型\\\\指标信息完整版18.0.xlsx',usecols = [5,27],sheet_name='Data指标')"
   ]
  },
  {
   "cell_type": "code",
   "execution_count": 17,
   "metadata": {},
   "outputs": [],
   "source": [
    "data = data1\n",
    "data = data.reset_index(drop = True)"
   ]
  },
  {
   "cell_type": "code",
   "execution_count": 20,
   "metadata": {},
   "outputs": [],
   "source": [
    "index_id = pd.read_excel('D:\\\\思特奇\\\\工作文件\\\\最小指标库\\\\指标模型\\\\指标信息完整版18.0.xlsx',usecols = [4,5],sheet_name='Data指标')"
   ]
  },
  {
   "cell_type": "code",
   "execution_count": 5,
   "metadata": {},
   "outputs": [],
   "source": [
    "index_id.columns = ['指标id','指标中文名称']"
   ]
  },
  {
   "cell_type": "code",
   "execution_count": 6,
   "metadata": {},
   "outputs": [],
   "source": [
    "tmp = pd.DataFrame(columns = ['指标中文名称','指标使用部门'])"
   ]
  },
  {
   "cell_type": "code",
   "execution_count": 7,
   "metadata": {
    "scrolled": true
   },
   "outputs": [],
   "source": [
    "for i in range(len(data)):\n",
    "    tmp2 = pd.DataFrame(columns = ['指标中文名称','指标使用部门'])\n",
    "    if data['指标使用部门'].isnull()[i] == True:\n",
    "        tmp = tmp.append(data.iloc[i,:])\n",
    "    else:\n",
    "        tmp2['指标使用部门'] = data.iloc[i,1].split(',')\n",
    "        tmp2['指标中文名称'] = data.iloc[i,0]\n",
    "        tmp = tmp.append(tmp2)"
   ]
  },
  {
   "cell_type": "code",
   "execution_count": 8,
   "metadata": {},
   "outputs": [],
   "source": [
    "final = tmp.reset_index(drop = True).merge(index_id,on=['指标中文名称'],how = 'left')"
   ]
  },
  {
   "cell_type": "code",
   "execution_count": 9,
   "metadata": {
    "scrolled": true
   },
   "outputs": [],
   "source": [
    "final = final[final['指标使用部门'].notnull()].reset_index(drop=True)"
   ]
  },
  {
   "cell_type": "code",
   "execution_count": 10,
   "metadata": {},
   "outputs": [],
   "source": [
    "now_time = datetime.datetime.now()\n",
    "final['创建时间'] = '2020/1/1'\n",
    "final['创建人'] = 'admin'\n",
    "final['更新时间'] = now_time.strftime('%Y/%m/%d')\n",
    "final['更新人'] = 'admin'"
   ]
  },
  {
   "cell_type": "code",
   "execution_count": 11,
   "metadata": {},
   "outputs": [],
   "source": [
    "final['显示顺序'] = 1\n",
    "for i in range(len(final)):\n",
    "    if final.loc[i,'指标使用部门'] == '管理层':\n",
    "        final.loc[i,'显示顺序'] = 1\n",
    "    elif final.loc[i,'指标使用部门'] == '市场部':\n",
    "        final.loc[i,'显示顺序'] = 2\n",
    "    else:\n",
    "        final.loc[i,'显示顺序'] = 3"
   ]
  },
  {
   "cell_type": "code",
   "execution_count": 12,
   "metadata": {},
   "outputs": [],
   "source": [
    "final.to_excel('D:\\\\思特奇\\\\工作文件\\\\最小指标库\\\\指标模型\\\\关系表\\\\使用部门汇总.xlsx',index=False)"
   ]
  },
  {
   "cell_type": "code",
   "execution_count": 13,
   "metadata": {},
   "outputs": [],
   "source": [
    "final.columns = ['index_name','index_use_dept','index_id','create_time','creator','update_time','updater','order_id']"
   ]
  },
  {
   "cell_type": "code",
   "execution_count": 14,
   "metadata": {},
   "outputs": [],
   "source": [
    "final.to_excel('D:\\\\思特奇\\\\工作文件\\\\最小指标库\\\\指标模型\\\\关系表\\\\导入版\\\\使用部门汇总 导入版.xlsx',sheet_name='dim_index_use_dept_info',index=False)"
   ]
  }
 ],
 "metadata": {
  "kernelspec": {
   "display_name": "Python 3",
   "language": "python",
   "name": "python3"
  },
  "language_info": {
   "codemirror_mode": {
    "name": "ipython",
    "version": 3
   },
   "file_extension": ".py",
   "mimetype": "text/x-python",
   "name": "python",
   "nbconvert_exporter": "python",
   "pygments_lexer": "ipython3",
   "version": "3.6.5"
  }
 },
 "nbformat": 4,
 "nbformat_minor": 2
}
