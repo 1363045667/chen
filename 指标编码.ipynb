{
 "cells": [
  {
   "cell_type": "code",
   "execution_count": 1,
   "metadata": {},
   "outputs": [],
   "source": [
    "import pandas as pd\n",
    "import numpy as np"
   ]
  },
  {
   "cell_type": "code",
   "execution_count": 2,
   "metadata": {},
   "outputs": [],
   "source": [
    "data = pd.read_excel('D:\\\\思特奇\\\\工作文件\\\\最小指标库\\\\指标模型\\\\指标\\\\指标模型第五版.xlsx')"
   ]
  },
  {
   "cell_type": "code",
   "execution_count": 3,
   "metadata": {},
   "outputs": [
    {
     "data": {
      "text/plain": [
       "True"
      ]
     },
     "execution_count": 3,
     "metadata": {},
     "output_type": "execute_result"
    }
   ],
   "source": [
    "data.iloc[1,:].isnull().any()"
   ]
  },
  {
   "cell_type": "code",
   "execution_count": 4,
   "metadata": {},
   "outputs": [],
   "source": [
    "data = data.fillna('None')"
   ]
  },
  {
   "cell_type": "code",
   "execution_count": 5,
   "metadata": {},
   "outputs": [],
   "source": [
    "data_DA = data[data['业务过程编码'].apply(lambda x : True if x[0:2] =='DA' else False)].reset_index(drop = True)"
   ]
  },
  {
   "cell_type": "code",
   "execution_count": 6,
   "metadata": {},
   "outputs": [],
   "source": [
    "data_MO = data[data['业务过程编码'].apply(lambda x : True if x[0:2] =='MO' else False)].reset_index(drop = True)"
   ]
  },
  {
   "cell_type": "code",
   "execution_count": 7,
   "metadata": {},
   "outputs": [],
   "source": [
    "data_IN = data[data['业务过程编码'].apply(lambda x : True if x[0:2] =='IN' else False)].reset_index(drop = True)"
   ]
  },
  {
   "cell_type": "code",
   "execution_count": 8,
   "metadata": {},
   "outputs": [],
   "source": [
    "data_IPX = data[data['业务过程编码'].apply(lambda x : True if x[0:3] =='IPX' else False)].reset_index(drop = True)"
   ]
  },
  {
   "cell_type": "code",
   "execution_count": 9,
   "metadata": {},
   "outputs": [],
   "source": [
    "data_EX = data[data['业务过程编码'].apply(lambda x : True if x[0:2] =='EX' else False)].reset_index(drop = True)"
   ]
  },
  {
   "cell_type": "code",
   "execution_count": 10,
   "metadata": {},
   "outputs": [],
   "source": [
    "data_None = data[data['业务过程编码'].apply(lambda x : True if x =='None' else False)].reset_index(drop = True)"
   ]
  },
  {
   "cell_type": "code",
   "execution_count": 11,
   "metadata": {},
   "outputs": [
    {
     "name": "stderr",
     "output_type": "stream",
     "text": [
      "D:\\anaconda\\lib\\site-packages\\ipykernel_launcher.py:4: DeprecationWarning: \n",
      ".ix is deprecated. Please use\n",
      ".loc for label based indexing or\n",
      ".iloc for positional indexing\n",
      "\n",
      "See the documentation here:\n",
      "http://pandas.pydata.org/pandas-docs/stable/indexing.html#ix-indexer-is-deprecated\n",
      "  after removing the cwd from sys.path.\n",
      "D:\\anaconda\\lib\\site-packages\\ipykernel_launcher.py:6: DeprecationWarning: \n",
      ".ix is deprecated. Please use\n",
      ".loc for label based indexing or\n",
      ".iloc for positional indexing\n",
      "\n",
      "See the documentation here:\n",
      "http://pandas.pydata.org/pandas-docs/stable/indexing.html#ix-indexer-is-deprecated\n",
      "  \n"
     ]
    }
   ],
   "source": [
    "total = data_DA['限定词'].apply(lambda x : '00' if x=='公司' or x == 'None' else '01')\n",
    "for i in range(len(data_DA)):\n",
    "    if i < 9 :\n",
    "        data_DA.ix[i,'指标编码'] = data_DA.ix[i,'业务过程编码'] +  total[i] + str(int(data_DA.ix[i,'原子指标编码'])) + str('00')+ str(i+1)\n",
    "    elif i >=9 and i <99:\n",
    "        data_DA.ix[i,'指标编码'] = data_DA.ix[i,'业务过程编码'] +  total[i] + str(int(data_DA.ix[i,'原子指标编码'])) + str('0')+ str(i+1)\n",
    "    elif i >=99:\n",
    "        data_DA.ix[i,'指标编码'] = data_DA.ix[i,'业务过程编码'] +  total[i] + str(int(data_DA.ix[i,'原子指标编码'])) + str(i+1)"
   ]
  },
  {
   "cell_type": "code",
   "execution_count": 12,
   "metadata": {},
   "outputs": [
    {
     "name": "stderr",
     "output_type": "stream",
     "text": [
      "D:\\anaconda\\lib\\site-packages\\ipykernel_launcher.py:4: DeprecationWarning: \n",
      ".ix is deprecated. Please use\n",
      ".loc for label based indexing or\n",
      ".iloc for positional indexing\n",
      "\n",
      "See the documentation here:\n",
      "http://pandas.pydata.org/pandas-docs/stable/indexing.html#ix-indexer-is-deprecated\n",
      "  after removing the cwd from sys.path.\n",
      "D:\\anaconda\\lib\\site-packages\\ipykernel_launcher.py:6: DeprecationWarning: \n",
      ".ix is deprecated. Please use\n",
      ".loc for label based indexing or\n",
      ".iloc for positional indexing\n",
      "\n",
      "See the documentation here:\n",
      "http://pandas.pydata.org/pandas-docs/stable/indexing.html#ix-indexer-is-deprecated\n",
      "  \n"
     ]
    }
   ],
   "source": [
    "total = data_MO['限定词'].apply(lambda x : '00' if x=='公司' or x == 'None' else '01')\n",
    "for i in range(len(data_MO)):\n",
    "    if i < 9:\n",
    "        data_MO.ix[i,'指标编码'] = data_MO.ix[i,'业务过程编码'] +  total[i] + str(int(data_MO.ix[i,'原子指标编码'])) + str('00')+ str(i+1)\n",
    "    elif i >=9 and i <99:\n",
    "        data_MO.ix[i,'指标编码'] = data_MO.ix[i,'业务过程编码'] +  total[i] + str(int(data_MO.ix[i,'原子指标编码'])) + str('0')+ str(i+1)\n",
    "    elif i >=99:\n",
    "        data_MO.ix[i,'指标编码'] = data_MO.ix[i,'业务过程编码'] +  total[i] + str(int(data_MO.ix[i,'原子指标编码'])) + str(i+1)"
   ]
  },
  {
   "cell_type": "code",
   "execution_count": 13,
   "metadata": {
    "scrolled": true
   },
   "outputs": [
    {
     "name": "stderr",
     "output_type": "stream",
     "text": [
      "D:\\anaconda\\lib\\site-packages\\ipykernel_launcher.py:4: DeprecationWarning: \n",
      ".ix is deprecated. Please use\n",
      ".loc for label based indexing or\n",
      ".iloc for positional indexing\n",
      "\n",
      "See the documentation here:\n",
      "http://pandas.pydata.org/pandas-docs/stable/indexing.html#ix-indexer-is-deprecated\n",
      "  after removing the cwd from sys.path.\n",
      "D:\\anaconda\\lib\\site-packages\\ipykernel_launcher.py:6: DeprecationWarning: \n",
      ".ix is deprecated. Please use\n",
      ".loc for label based indexing or\n",
      ".iloc for positional indexing\n",
      "\n",
      "See the documentation here:\n",
      "http://pandas.pydata.org/pandas-docs/stable/indexing.html#ix-indexer-is-deprecated\n",
      "  \n"
     ]
    }
   ],
   "source": [
    "total = data_IN['限定词'].apply(lambda x : '00' if x=='公司' or x == 'None' else '01')\n",
    "for i in range(len(data_IN)):\n",
    "    if i <9 :\n",
    "        data_IN.ix[i,'指标编码'] = data_IN.ix[i,'业务过程编码'] +  total[i] + str(int(data_IN.ix[i,'原子指标编码'])) + str('00')+ str(i+1)\n",
    "    elif i >= 9 and i<99:\n",
    "        data_IN.ix[i,'指标编码'] = data_IN.ix[i,'业务过程编码'] +  total[i] + str(int(data_IN.ix[i,'原子指标编码'])) + str('0')+ str(i+1)\n",
    "    elif i>= 99 :\n",
    "        data_IN.ix[i,'指标编码'] = data_IN.ix[i,'业务过程编码'] +  total[i] + str(int(data_IN.ix[i,'原子指标编码'])) + str(i+1)"
   ]
  },
  {
   "cell_type": "code",
   "execution_count": 14,
   "metadata": {},
   "outputs": [
    {
     "name": "stderr",
     "output_type": "stream",
     "text": [
      "D:\\anaconda\\lib\\site-packages\\ipykernel_launcher.py:4: DeprecationWarning: \n",
      ".ix is deprecated. Please use\n",
      ".loc for label based indexing or\n",
      ".iloc for positional indexing\n",
      "\n",
      "See the documentation here:\n",
      "http://pandas.pydata.org/pandas-docs/stable/indexing.html#ix-indexer-is-deprecated\n",
      "  after removing the cwd from sys.path.\n"
     ]
    }
   ],
   "source": [
    "total = data_MO['限定词'].apply(lambda x : '00' if x=='公司' or x == 'None' else '01')\n",
    "for i in range(len(data_IPX)):\n",
    "    if i < 9 :\n",
    "        data_IPX.ix[i,'指标编码'] = data_IPX.ix[i,'业务过程编码'] +  total[i] + str(int(data_IPX.ix[i,'原子指标编码'])) + str('00')+ str(i+1)\n",
    "    elif i >=9 :\n",
    "        data_IPX.ix[i,'指标编码'] = data_IPX.ix[i,'业务过程编码'] +  total[i] + str(int(data_IPX.ix[i,'原子指标编码'])) + str('0')+ str(i+1)"
   ]
  },
  {
   "cell_type": "code",
   "execution_count": 15,
   "metadata": {},
   "outputs": [
    {
     "name": "stderr",
     "output_type": "stream",
     "text": [
      "D:\\anaconda\\lib\\site-packages\\ipykernel_launcher.py:4: DeprecationWarning: \n",
      ".ix is deprecated. Please use\n",
      ".loc for label based indexing or\n",
      ".iloc for positional indexing\n",
      "\n",
      "See the documentation here:\n",
      "http://pandas.pydata.org/pandas-docs/stable/indexing.html#ix-indexer-is-deprecated\n",
      "  after removing the cwd from sys.path.\n"
     ]
    }
   ],
   "source": [
    "total = data_EX['限定词'].apply(lambda x : '00' if x=='公司' or x == 'None' else '01')\n",
    "for i in range(len(data_EX)):\n",
    "    if i < 9 :\n",
    "        data_EX.ix[i,'指标编码'] = data_EX.ix[i,'业务过程编码'] +  total[i] + str(int(data_EX.ix[i,'原子指标编码'])) + str('00')+ str(i+1)\n",
    "    elif i >=9 and i<99:\n",
    "        data_EX.ix[i,'指标编码'] = data_EX.ix[i,'业务过程编码'] +  total[i] + str(int(data_EX.ix[i,'原子指标编码'])) + str('0')+ str(i+1)\n",
    "    elif i >=99:\n",
    "        data_EX.ix[i,'指标编码'] = data_EX.ix[i,'业务过程编码'] +  total[i] + str(int(data_EX.ix[i,'原子指标编码'])) + str(i+1)"
   ]
  },
  {
   "cell_type": "code",
   "execution_count": 16,
   "metadata": {},
   "outputs": [],
   "source": [
    "data_final = data_DA.append(data_MO).append(data_IN).append(data_IPX).append(data_EX).append(data_None).reset_index(drop=True)"
   ]
  },
  {
   "cell_type": "code",
   "execution_count": 17,
   "metadata": {},
   "outputs": [],
   "source": [
    "data_final = data_final.replace('None',np.nan).sort_values(by = '序号')"
   ]
  },
  {
   "cell_type": "code",
   "execution_count": 19,
   "metadata": {},
   "outputs": [],
   "source": [
    "data_final.to_excel('D:\\\\思特奇\\\\工作文件\\\\最小指标库\\\\指标模型\\\\指标\\\\指标编码内容.xlsx',index = False)"
   ]
  }
 ],
 "metadata": {
  "kernelspec": {
   "display_name": "Python 3",
   "language": "python",
   "name": "python3"
  },
  "language_info": {
   "codemirror_mode": {
    "name": "ipython",
    "version": 3
   },
   "file_extension": ".py",
   "mimetype": "text/x-python",
   "name": "python",
   "nbconvert_exporter": "python",
   "pygments_lexer": "ipython3",
   "version": "3.6.5"
  }
 },
 "nbformat": 4,
 "nbformat_minor": 2
}
